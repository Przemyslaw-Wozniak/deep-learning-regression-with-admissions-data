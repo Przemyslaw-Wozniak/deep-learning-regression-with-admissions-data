{
 "cells": [
  {
   "cell_type": "code",
   "execution_count": 2,
   "metadata": {},
   "outputs": [],
   "source": [
    "import pandas as pd\n",
    "import numpy as np\n",
    "import matplotlib.pyplot as plt\n",
    "\n",
    "import tensorflow as tf\n",
    "from tensorflow\timport keras\n",
    "from tensorflow.keras.models import Sequential\n",
    "from tensorflow.keras.callbacks import EarlyStopping\n",
    "from tensorflow.keras.layers import InputLayer\n",
    "from tensorflow.keras.layers import Dense\n",
    "\n",
    "from sklearn.model_selection import train_test_split\n",
    "from sklearn.preprocessing import StandardScaler\n",
    "from sklearn.preprocessing import Normalizer\n",
    "from sklearn.metrics import r2_score"
   ]
  },
  {
   "cell_type": "code",
   "execution_count": 3,
   "metadata": {},
   "outputs": [
    {
     "name": "stdout",
     "output_type": "stream",
     "text": [
      "<class 'pandas.core.frame.DataFrame'>\n",
      "RangeIndex: 500 entries, 0 to 499\n",
      "Data columns (total 9 columns):\n",
      " #   Column             Non-Null Count  Dtype  \n",
      "---  ------             --------------  -----  \n",
      " 0   Serial No.         500 non-null    int64  \n",
      " 1   GRE Score          500 non-null    int64  \n",
      " 2   TOEFL Score        500 non-null    int64  \n",
      " 3   University Rating  500 non-null    int64  \n",
      " 4   SOP                500 non-null    float64\n",
      " 5   LOR                500 non-null    float64\n",
      " 6   CGPA               500 non-null    float64\n",
      " 7   Research           500 non-null    int64  \n",
      " 8   Chance of Admit    500 non-null    float64\n",
      "dtypes: float64(4), int64(5)\n",
      "memory usage: 35.3 KB\n"
     ]
    },
    {
     "data": {
      "text/html": [
       "<div>\n",
       "<style scoped>\n",
       "    .dataframe tbody tr th:only-of-type {\n",
       "        vertical-align: middle;\n",
       "    }\n",
       "\n",
       "    .dataframe tbody tr th {\n",
       "        vertical-align: top;\n",
       "    }\n",
       "\n",
       "    .dataframe thead th {\n",
       "        text-align: right;\n",
       "    }\n",
       "</style>\n",
       "<table border=\"1\" class=\"dataframe\">\n",
       "  <thead>\n",
       "    <tr style=\"text-align: right;\">\n",
       "      <th></th>\n",
       "      <th>Serial No.</th>\n",
       "      <th>GRE Score</th>\n",
       "      <th>TOEFL Score</th>\n",
       "      <th>University Rating</th>\n",
       "      <th>SOP</th>\n",
       "      <th>LOR</th>\n",
       "      <th>CGPA</th>\n",
       "      <th>Research</th>\n",
       "      <th>Chance of Admit</th>\n",
       "    </tr>\n",
       "  </thead>\n",
       "  <tbody>\n",
       "    <tr>\n",
       "      <th>count</th>\n",
       "      <td>500.000000</td>\n",
       "      <td>500.000000</td>\n",
       "      <td>500.000000</td>\n",
       "      <td>500.000000</td>\n",
       "      <td>500.000000</td>\n",
       "      <td>500.00000</td>\n",
       "      <td>500.000000</td>\n",
       "      <td>500.000000</td>\n",
       "      <td>500.00000</td>\n",
       "    </tr>\n",
       "    <tr>\n",
       "      <th>mean</th>\n",
       "      <td>250.500000</td>\n",
       "      <td>316.472000</td>\n",
       "      <td>107.192000</td>\n",
       "      <td>3.114000</td>\n",
       "      <td>3.374000</td>\n",
       "      <td>3.48400</td>\n",
       "      <td>8.576440</td>\n",
       "      <td>0.560000</td>\n",
       "      <td>0.72174</td>\n",
       "    </tr>\n",
       "    <tr>\n",
       "      <th>std</th>\n",
       "      <td>144.481833</td>\n",
       "      <td>11.295148</td>\n",
       "      <td>6.081868</td>\n",
       "      <td>1.143512</td>\n",
       "      <td>0.991004</td>\n",
       "      <td>0.92545</td>\n",
       "      <td>0.604813</td>\n",
       "      <td>0.496884</td>\n",
       "      <td>0.14114</td>\n",
       "    </tr>\n",
       "    <tr>\n",
       "      <th>min</th>\n",
       "      <td>1.000000</td>\n",
       "      <td>290.000000</td>\n",
       "      <td>92.000000</td>\n",
       "      <td>1.000000</td>\n",
       "      <td>1.000000</td>\n",
       "      <td>1.00000</td>\n",
       "      <td>6.800000</td>\n",
       "      <td>0.000000</td>\n",
       "      <td>0.34000</td>\n",
       "    </tr>\n",
       "    <tr>\n",
       "      <th>25%</th>\n",
       "      <td>125.750000</td>\n",
       "      <td>308.000000</td>\n",
       "      <td>103.000000</td>\n",
       "      <td>2.000000</td>\n",
       "      <td>2.500000</td>\n",
       "      <td>3.00000</td>\n",
       "      <td>8.127500</td>\n",
       "      <td>0.000000</td>\n",
       "      <td>0.63000</td>\n",
       "    </tr>\n",
       "    <tr>\n",
       "      <th>50%</th>\n",
       "      <td>250.500000</td>\n",
       "      <td>317.000000</td>\n",
       "      <td>107.000000</td>\n",
       "      <td>3.000000</td>\n",
       "      <td>3.500000</td>\n",
       "      <td>3.50000</td>\n",
       "      <td>8.560000</td>\n",
       "      <td>1.000000</td>\n",
       "      <td>0.72000</td>\n",
       "    </tr>\n",
       "    <tr>\n",
       "      <th>75%</th>\n",
       "      <td>375.250000</td>\n",
       "      <td>325.000000</td>\n",
       "      <td>112.000000</td>\n",
       "      <td>4.000000</td>\n",
       "      <td>4.000000</td>\n",
       "      <td>4.00000</td>\n",
       "      <td>9.040000</td>\n",
       "      <td>1.000000</td>\n",
       "      <td>0.82000</td>\n",
       "    </tr>\n",
       "    <tr>\n",
       "      <th>max</th>\n",
       "      <td>500.000000</td>\n",
       "      <td>340.000000</td>\n",
       "      <td>120.000000</td>\n",
       "      <td>5.000000</td>\n",
       "      <td>5.000000</td>\n",
       "      <td>5.00000</td>\n",
       "      <td>9.920000</td>\n",
       "      <td>1.000000</td>\n",
       "      <td>0.97000</td>\n",
       "    </tr>\n",
       "  </tbody>\n",
       "</table>\n",
       "</div>"
      ],
      "text/plain": [
       "       Serial No.   GRE Score  TOEFL Score  University Rating         SOP  \\\n",
       "count  500.000000  500.000000   500.000000         500.000000  500.000000   \n",
       "mean   250.500000  316.472000   107.192000           3.114000    3.374000   \n",
       "std    144.481833   11.295148     6.081868           1.143512    0.991004   \n",
       "min      1.000000  290.000000    92.000000           1.000000    1.000000   \n",
       "25%    125.750000  308.000000   103.000000           2.000000    2.500000   \n",
       "50%    250.500000  317.000000   107.000000           3.000000    3.500000   \n",
       "75%    375.250000  325.000000   112.000000           4.000000    4.000000   \n",
       "max    500.000000  340.000000   120.000000           5.000000    5.000000   \n",
       "\n",
       "            LOR         CGPA    Research  Chance of Admit   \n",
       "count  500.00000  500.000000  500.000000         500.00000  \n",
       "mean     3.48400    8.576440    0.560000           0.72174  \n",
       "std      0.92545    0.604813    0.496884           0.14114  \n",
       "min      1.00000    6.800000    0.000000           0.34000  \n",
       "25%      3.00000    8.127500    0.000000           0.63000  \n",
       "50%      3.50000    8.560000    1.000000           0.72000  \n",
       "75%      4.00000    9.040000    1.000000           0.82000  \n",
       "max      5.00000    9.920000    1.000000           0.97000  "
      ]
     },
     "execution_count": 3,
     "metadata": {},
     "output_type": "execute_result"
    }
   ],
   "source": [
    "admissions = pd.read_csv(\"admissions.csv\")\n",
    "\n",
    "admissions.head()\n",
    "admissions.info()\n",
    "admissions.describe()"
   ]
  },
  {
   "cell_type": "markdown",
   "metadata": {},
   "source": [
    "### Data preprocessing."
   ]
  },
  {
   "cell_type": "code",
   "execution_count": 4,
   "metadata": {},
   "outputs": [
    {
     "name": "stdout",
     "output_type": "stream",
     "text": [
      "   Serial No.  GRE Score  TOEFL Score  University Rating  SOP  LOR   CGPA  \\\n",
      "0           1        337          118                  4  4.5   4.5  9.65   \n",
      "1           2        324          107                  4  4.0   4.5  8.87   \n",
      "2           3        316          104                  3  3.0   3.5  8.00   \n",
      "3           4        322          110                  3  3.5   2.5  8.67   \n",
      "4           5        314          103                  2  2.0   3.0  8.21   \n",
      "\n",
      "   Research  \n",
      "0         1  \n",
      "1         1  \n",
      "2         1  \n",
      "3         1  \n",
      "4         0  \n",
      "0    0.92\n",
      "1    0.76\n",
      "2    0.72\n",
      "3    0.80\n",
      "4    0.65\n",
      "Name: Chance of Admit , dtype: float64\n"
     ]
    }
   ],
   "source": [
    "features = admissions.iloc[:,0:-1]\n",
    "labels = admissions.iloc[:, -1]\n",
    "\n",
    "print(features.head())\n",
    "print(labels.head())"
   ]
  },
  {
   "cell_type": "markdown",
   "metadata": {},
   "source": [
    "### One-hot-encoding of features data."
   ]
  },
  {
   "cell_type": "code",
   "execution_count": 6,
   "metadata": {},
   "outputs": [
    {
     "name": "stdout",
     "output_type": "stream",
     "text": [
      "     Serial No.  GRE Score  TOEFL Score  University Rating  SOP  LOR   CGPA  \\\n",
      "0             1        337          118                  4  4.5   4.5  9.65   \n",
      "1             2        324          107                  4  4.0   4.5  8.87   \n",
      "2             3        316          104                  3  3.0   3.5  8.00   \n",
      "3             4        322          110                  3  3.5   2.5  8.67   \n",
      "4             5        314          103                  2  2.0   3.0  8.21   \n",
      "..          ...        ...          ...                ...  ...   ...   ...   \n",
      "495         496        332          108                  5  4.5   4.0  9.02   \n",
      "496         497        337          117                  5  5.0   5.0  9.87   \n",
      "497         498        330          120                  5  4.5   5.0  9.56   \n",
      "498         499        312          103                  4  4.0   5.0  8.43   \n",
      "499         500        327          113                  4  4.5   4.5  9.04   \n",
      "\n",
      "     Research  \n",
      "0           1  \n",
      "1           1  \n",
      "2           1  \n",
      "3           1  \n",
      "4           0  \n",
      "..        ...  \n",
      "495         1  \n",
      "496         1  \n",
      "497         1  \n",
      "498         0  \n",
      "499         0  \n",
      "\n",
      "[500 rows x 8 columns]\n"
     ]
    }
   ],
   "source": [
    "features = pd.get_dummies(features)\n",
    "print(features)"
   ]
  },
  {
   "cell_type": "markdown",
   "metadata": {},
   "source": [
    "### Train-test split."
   ]
  },
  {
   "cell_type": "code",
   "execution_count": 9,
   "metadata": {},
   "outputs": [
    {
     "name": "stdout",
     "output_type": "stream",
     "text": [
      "     Serial No.  GRE Score  TOEFL Score  University Rating  SOP  LOR   CGPA  \\\n",
      "5             6        330          115                  5  4.5   3.0  9.34   \n",
      "116         117        299          102                  3  4.0   3.5  8.62   \n",
      "45           46        322          110                  5  5.0   4.0  9.10   \n",
      "16           17        317          107                  3  4.0   3.0  8.70   \n",
      "462         463        307          105                  4  3.0   3.0  7.94   \n",
      "\n",
      "     Research  \n",
      "5           1  \n",
      "116         0  \n",
      "45          1  \n",
      "16          0  \n",
      "462         0  \n",
      "5      0.90\n",
      "116    0.56\n",
      "45     0.88\n",
      "16     0.66\n",
      "462    0.62\n",
      "Name: Chance of Admit , dtype: float64\n"
     ]
    }
   ],
   "source": [
    "feat_train, feat_test, labels_train, labels_test = train_test_split(features, labels, test_size = 0.3, random_state = 42)\n",
    "\n",
    "print(feat_train.head())\n",
    "print(labels_train.head())"
   ]
  },
  {
   "cell_type": "markdown",
   "metadata": {},
   "source": [
    "### Standarization"
   ]
  },
  {
   "cell_type": "code",
   "execution_count": 7,
   "metadata": {},
   "outputs": [
    {
     "name": "stdout",
     "output_type": "stream",
     "text": [
      "Index(['Serial No.', 'GRE Score', 'TOEFL Score', 'University Rating', 'SOP',\n",
      "       'LOR ', 'CGPA', 'Research'],\n",
      "      dtype='object')\n"
     ]
    }
   ],
   "source": [
    "from sklearn.compose import ColumnTransformer\n",
    "\n",
    "#Fetching float and integer variables and assigning them to variable with columns\n",
    "num_feats = features.select_dtypes(include = ['float64', 'int64'])\n",
    "num_cols = num_feats.columns\n",
    "\n",
    "print(num_cols)"
   ]
  },
  {
   "cell_type": "code",
   "execution_count": 10,
   "metadata": {},
   "outputs": [
    {
     "name": "stdout",
     "output_type": "stream",
     "text": [
      "[[-1.75020856  1.22318504  1.27980924 ... -0.5291228   1.28550609\n",
      "   0.88127734]\n",
      " [-0.96385041 -1.61322396 -0.86815536 ...  0.01556244  0.07349047\n",
      "  -1.13471657]\n",
      " [-1.46683625  0.49120853  0.45366901 ...  0.56024767  0.88150088\n",
      "   0.88127734]\n",
      " ...\n",
      " [ 0.67970895 -1.33873276 -1.3638395  ... -1.61849327 -2.23270591\n",
      "  -1.13471657]\n",
      " [ 1.29604372 -0.69825331 -0.37247122 ...  0.56024767 -1.50886325\n",
      "  -1.13471657]\n",
      " [-1.06303072 -0.24076799 -0.20724318 ...  0.01556244 -0.54935089\n",
      "  -1.13471657]] [[ 0.77180495  1.5891733   1.44503728 ...  0.01556244  1.62217709\n",
      "   0.88127734]\n",
      " [-1.26847564 -0.24076799  0.12321291 ...  0.56024767  0.78049958\n",
      "   0.88127734]\n",
      " [ 0.86390095 -0.14927093 -0.37247122 ... -1.07380803 -1.5593639\n",
      "  -1.13471657]\n",
      " ...\n",
      " [-0.21291381  0.67420265  0.94935314 ...  0.56024767  0.35966083\n",
      "  -1.13471657]\n",
      " [ 0.06337419 -0.42376212 -0.53769927 ...  0.56024767 -0.81868769\n",
      "  -1.13471657]\n",
      " [ 1.23228495 -0.42376212 -0.20724318 ...  1.64961814 -0.01067728\n",
      "  -1.13471657]]\n"
     ]
    }
   ],
   "source": [
    "ct = ColumnTransformer([('only_numeric', StandardScaler(), num_cols, )], remainder = 'passthrough')\n",
    "feat_train_scaled = ct.fit_transform(feat_train)\n",
    "feat_test_scaled = ct.transform(feat_test)\n",
    "\n",
    "print(feat_train_scaled, feat_test_scaled)"
   ]
  },
  {
   "cell_type": "code",
   "execution_count": 11,
   "metadata": {},
   "outputs": [
    {
     "name": "stdout",
     "output_type": "stream",
     "text": [
      "     Serial No.  GRE Score  TOEFL Score  University Rating       SOP  \\\n",
      "0     -1.750209   1.223185     1.279809           1.647869  1.133935   \n",
      "1     -0.963850  -1.613224    -0.868155          -0.084125  0.632828   \n",
      "2     -1.466836   0.491209     0.453669           1.647869  1.635043   \n",
      "3     -1.672281   0.033723    -0.042015          -0.084125  0.632828   \n",
      "4      1.487320  -0.881247    -0.372471           0.781872 -0.369388   \n",
      "..          ...        ...          ...                ...       ...   \n",
      "345   -1.034693   1.131688     0.618897           0.781872  1.133935   \n",
      "346    0.127133  -0.972745    -0.372471          -0.950123 -0.870496   \n",
      "347    0.679709  -1.338733    -1.363839          -1.816120 -1.371604   \n",
      "348    1.296044  -0.698253    -0.372471          -0.950123 -0.870496   \n",
      "349   -1.063031  -0.240768    -0.207243          -0.950123  0.632828   \n",
      "\n",
      "         LOR       CGPA  Research  \n",
      "0   -0.529123  1.285506  0.881277  \n",
      "1    0.015562  0.073490 -1.134717  \n",
      "2    0.560248  0.881501  0.881277  \n",
      "3   -0.529123  0.208159 -1.134717  \n",
      "4   -0.529123 -1.071191 -1.134717  \n",
      "..        ...       ...       ...  \n",
      "345  1.104933  1.016169  0.881277  \n",
      "346 -0.529123 -0.599852  0.881277  \n",
      "347 -1.618493 -2.232706 -1.134717  \n",
      "348  0.560248 -1.508863 -1.134717  \n",
      "349  0.015562 -0.549351 -1.134717  \n",
      "\n",
      "[350 rows x 8 columns]\n"
     ]
    }
   ],
   "source": [
    "#Turning feat_train_scaled into dataframe.\n",
    "feat_train_stand = pd.DataFrame(feat_train_scaled, columns = feat_train.columns)\n",
    "\n",
    "print(feat_train_stand)"
   ]
  },
  {
   "cell_type": "markdown",
   "metadata": {},
   "source": [
    "### Creating the model in the function."
   ]
  },
  {
   "cell_type": "code",
   "execution_count": 18,
   "metadata": {},
   "outputs": [],
   "source": [
    "from tensorflow.keras.optimizers import Adam\n",
    "\n",
    "learning_rate = 0.01"
   ]
  },
  {
   "cell_type": "code",
   "execution_count": 31,
   "metadata": {},
   "outputs": [
    {
     "name": "stdout",
     "output_type": "stream",
     "text": [
      "<keras.engine.sequential.Sequential object at 0x000001D1A1F31070>\n"
     ]
    }
   ],
   "source": [
    "def create_model(feat_train, learning_rate):\n",
    "    model = Sequential()\n",
    "    input = InputLayer(input_shape = feat_train.shape[1])\n",
    "    model.add(input)\n",
    "    model.add(Dense(64, activation = 'relu'))\n",
    "    model.add(Dense(1))\n",
    "    opt = Adam(learning_rate = 0.01)\n",
    "    model.compile(loss = 'mse', metrics = ['mae'], optimizer = opt)\n",
    "    return model\n",
    "\n",
    "print(create_model(feat_train_stand, learning_rate))"
   ]
  },
  {
   "cell_type": "markdown",
   "metadata": {},
   "source": [
    "### Applying early stopping, which stops learning process as the loss function converge (reaches plateau)."
   ]
  },
  {
   "cell_type": "code",
   "execution_count": 20,
   "metadata": {},
   "outputs": [],
   "source": [
    "from tensorflow.keras.callbacks import EarlyStopping"
   ]
  },
  {
   "cell_type": "code",
   "execution_count": 32,
   "metadata": {},
   "outputs": [],
   "source": [
    "def fit_model(feat_train, labels_train, learning_rate, epochs):\n",
    "    model = create_model(feat_train, learning_rate)\n",
    "    stop = EarlyStopping(\n",
    "        monitor = 'loss',\n",
    "        min_delta = 0,\n",
    "        #Defining the number of epochs to countinue after reachinh plateau. \n",
    "        patience = 20,\n",
    "        verbose = 0,\n",
    "        mode = 'min',\n",
    "        baseline = None,\n",
    "        restore_best_weights = False,)\n",
    "    #znależć w dokumentacji jak uczyć model.\n",
    "    model_fitting = model.fit(\n",
    "        feat_test_scaled,\n",
    "        labels_test,\n",
    "        epochs = num_epochs,\n",
    "        batch_size = 1,\n",
    "        verbose = 1,\n",
    "        validation_split = 0.2,\n",
    "        #Argument callbacks must be defined \n",
    "        callbacks = [stop]\n",
    "    )\n",
    "    return model_fitting"
   ]
  },
  {
   "cell_type": "markdown",
   "metadata": {},
   "source": [
    "### Evaluating the model."
   ]
  },
  {
   "cell_type": "code",
   "execution_count": 33,
   "metadata": {},
   "outputs": [
    {
     "name": "stdout",
     "output_type": "stream",
     "text": [
      "Epoch 1/1000\n",
      "120/120 [==============================] - 11s 19ms/step - loss: 0.1322 - mae: 0.2687 - val_loss: 0.0861 - val_mae: 0.2503\n",
      "Epoch 2/1000\n",
      "120/120 [==============================] - 1s 8ms/step - loss: 0.0633 - mae: 0.1916 - val_loss: 0.0134 - val_mae: 0.0962\n",
      "Epoch 3/1000\n",
      "120/120 [==============================] - 1s 6ms/step - loss: 0.0099 - mae: 0.0815 - val_loss: 0.0147 - val_mae: 0.0887\n",
      "Epoch 4/1000\n",
      "120/120 [==============================] - 1s 5ms/step - loss: 0.0181 - mae: 0.1008 - val_loss: 0.0052 - val_mae: 0.0539\n",
      "Epoch 5/1000\n",
      "120/120 [==============================] - 1s 6ms/step - loss: 0.0057 - mae: 0.0552 - val_loss: 0.0047 - val_mae: 0.0549\n",
      "Epoch 6/1000\n",
      "120/120 [==============================] - 1s 6ms/step - loss: 0.0042 - mae: 0.0505 - val_loss: 0.0044 - val_mae: 0.0518\n",
      "Epoch 7/1000\n",
      "120/120 [==============================] - 1s 6ms/step - loss: 0.0045 - mae: 0.0537 - val_loss: 0.0046 - val_mae: 0.0529\n",
      "Epoch 8/1000\n",
      "120/120 [==============================] - 1s 8ms/step - loss: 0.0034 - mae: 0.0440 - val_loss: 0.0064 - val_mae: 0.0614\n",
      "Epoch 9/1000\n",
      "120/120 [==============================] - 1s 8ms/step - loss: 0.0058 - mae: 0.0586 - val_loss: 0.0134 - val_mae: 0.0822\n",
      "Epoch 10/1000\n",
      "120/120 [==============================] - 1s 7ms/step - loss: 0.0081 - mae: 0.0687 - val_loss: 0.0059 - val_mae: 0.0564\n",
      "Epoch 11/1000\n",
      "120/120 [==============================] - 1s 5ms/step - loss: 0.0047 - mae: 0.0504 - val_loss: 0.0060 - val_mae: 0.0600\n",
      "Epoch 12/1000\n",
      "120/120 [==============================] - 1s 5ms/step - loss: 0.0035 - mae: 0.0455 - val_loss: 0.0087 - val_mae: 0.0735\n",
      "Epoch 13/1000\n",
      "120/120 [==============================] - 1s 4ms/step - loss: 0.0058 - mae: 0.0596 - val_loss: 0.0065 - val_mae: 0.0563\n",
      "Epoch 14/1000\n",
      "120/120 [==============================] - 1s 5ms/step - loss: 0.0057 - mae: 0.0595 - val_loss: 0.0055 - val_mae: 0.0595\n",
      "Epoch 15/1000\n",
      "120/120 [==============================] - 1s 4ms/step - loss: 0.0051 - mae: 0.0563 - val_loss: 0.0035 - val_mae: 0.0428\n",
      "Epoch 16/1000\n",
      "120/120 [==============================] - 1s 5ms/step - loss: 0.0036 - mae: 0.0451 - val_loss: 0.0085 - val_mae: 0.0665\n",
      "Epoch 17/1000\n",
      "120/120 [==============================] - 1s 4ms/step - loss: 0.0045 - mae: 0.0512 - val_loss: 0.0047 - val_mae: 0.0596\n",
      "Epoch 18/1000\n",
      "120/120 [==============================] - 1s 7ms/step - loss: 0.0040 - mae: 0.0505 - val_loss: 0.0043 - val_mae: 0.0494\n",
      "Epoch 19/1000\n",
      "120/120 [==============================] - 1s 6ms/step - loss: 0.0031 - mae: 0.0429 - val_loss: 0.0134 - val_mae: 0.0907\n",
      "Epoch 20/1000\n",
      "120/120 [==============================] - 1s 5ms/step - loss: 0.0040 - mae: 0.0475 - val_loss: 0.0053 - val_mae: 0.0537\n",
      "Epoch 21/1000\n",
      "120/120 [==============================] - 1s 5ms/step - loss: 0.0036 - mae: 0.0468 - val_loss: 0.0064 - val_mae: 0.0595\n",
      "Epoch 22/1000\n",
      "120/120 [==============================] - 1s 7ms/step - loss: 0.0035 - mae: 0.0450 - val_loss: 0.0033 - val_mae: 0.0429\n",
      "Epoch 23/1000\n",
      "120/120 [==============================] - 1s 7ms/step - loss: 0.0028 - mae: 0.0393 - val_loss: 0.0050 - val_mae: 0.0481\n",
      "Epoch 24/1000\n",
      "120/120 [==============================] - 1s 6ms/step - loss: 0.0050 - mae: 0.0550 - val_loss: 0.0046 - val_mae: 0.0513\n",
      "Epoch 25/1000\n",
      "120/120 [==============================] - 1s 7ms/step - loss: 0.0047 - mae: 0.0525 - val_loss: 0.0084 - val_mae: 0.0659\n",
      "Epoch 26/1000\n",
      "120/120 [==============================] - 1s 6ms/step - loss: 0.0064 - mae: 0.0617 - val_loss: 0.0059 - val_mae: 0.0547\n",
      "Epoch 27/1000\n",
      "120/120 [==============================] - 1s 7ms/step - loss: 0.0029 - mae: 0.0424 - val_loss: 0.0080 - val_mae: 0.0683\n",
      "Epoch 28/1000\n",
      "120/120 [==============================] - 1s 7ms/step - loss: 0.0047 - mae: 0.0516 - val_loss: 0.0035 - val_mae: 0.0459\n",
      "Epoch 29/1000\n",
      "120/120 [==============================] - 1s 6ms/step - loss: 0.0037 - mae: 0.0444 - val_loss: 0.0032 - val_mae: 0.0433\n",
      "Epoch 30/1000\n",
      "120/120 [==============================] - 1s 5ms/step - loss: 0.0035 - mae: 0.0439 - val_loss: 0.0037 - val_mae: 0.0449\n",
      "Epoch 31/1000\n",
      "120/120 [==============================] - 1s 5ms/step - loss: 0.0034 - mae: 0.0442 - val_loss: 0.0032 - val_mae: 0.0393\n",
      "Epoch 32/1000\n",
      "120/120 [==============================] - 1s 7ms/step - loss: 0.0029 - mae: 0.0407 - val_loss: 0.0060 - val_mae: 0.0539\n",
      "Epoch 33/1000\n",
      "120/120 [==============================] - 1s 8ms/step - loss: 0.0046 - mae: 0.0531 - val_loss: 0.0055 - val_mae: 0.0497\n",
      "Epoch 34/1000\n",
      "120/120 [==============================] - 1s 6ms/step - loss: 0.0044 - mae: 0.0501 - val_loss: 0.0079 - val_mae: 0.0691\n",
      "Epoch 35/1000\n",
      "120/120 [==============================] - 1s 7ms/step - loss: 0.0037 - mae: 0.0470 - val_loss: 0.0090 - val_mae: 0.0723\n",
      "Epoch 36/1000\n",
      "120/120 [==============================] - 1s 6ms/step - loss: 0.0044 - mae: 0.0515 - val_loss: 0.0045 - val_mae: 0.0486\n",
      "Epoch 37/1000\n",
      "120/120 [==============================] - 0s 4ms/step - loss: 0.0046 - mae: 0.0503 - val_loss: 0.0205 - val_mae: 0.1098\n",
      "Epoch 38/1000\n",
      "120/120 [==============================] - 1s 5ms/step - loss: 0.0096 - mae: 0.0740 - val_loss: 0.0140 - val_mae: 0.0893\n",
      "Epoch 39/1000\n",
      "120/120 [==============================] - 1s 4ms/step - loss: 0.0069 - mae: 0.0651 - val_loss: 0.0157 - val_mae: 0.1022\n",
      "Epoch 40/1000\n",
      "120/120 [==============================] - 1s 5ms/step - loss: 0.0106 - mae: 0.0736 - val_loss: 0.0084 - val_mae: 0.0702\n",
      "Epoch 41/1000\n",
      "120/120 [==============================] - 1s 5ms/step - loss: 0.0051 - mae: 0.0543 - val_loss: 0.0156 - val_mae: 0.0837\n",
      "Epoch 42/1000\n",
      "120/120 [==============================] - 1s 5ms/step - loss: 0.0060 - mae: 0.0592 - val_loss: 0.0067 - val_mae: 0.0621\n",
      "Epoch 43/1000\n",
      "120/120 [==============================] - 1s 6ms/step - loss: 0.0051 - mae: 0.0559 - val_loss: 0.0074 - val_mae: 0.0679\n",
      "5/5 [==============================] - 1s 3ms/step - loss: 0.0048 - mae: 0.0547\n",
      "0.004817200358957052\n"
     ]
    }
   ],
   "source": [
    "learning_rate = 0.01\n",
    "num_epochs = 1000\n",
    "\n",
    "evaluation = fit_model(feat_train, labels_train, learning_rate, num_epochs)\n",
    "val_mse, val_mae = evaluation.model.evaluate(feat_test_scaled, labels_test, verbose = 1)\n",
    "\n",
    "print(val_mse)"
   ]
  },
  {
   "cell_type": "markdown",
   "metadata": {},
   "source": [
    "### Results\n",
    "As we can see, loss function converged at epoch number 48. Mean square error was 0.004817200358957052."
   ]
  },
  {
   "cell_type": "markdown",
   "metadata": {},
   "source": [
    "### Drawing the plot describing loss function chnges over traning."
   ]
  },
  {
   "cell_type": "code",
   "execution_count": 34,
   "metadata": {},
   "outputs": [
    {
     "data": {
      "image/png": "[encoded data removed]",
      "text/plain": [
       "<Figure size 432x288 with 2 Axes>"
      ]
     },
     "metadata": {
      "needs_background": "light"
     },
     "output_type": "display_data"
    },
    {
     "data": {
      "text/plain": [
       "<Figure size 432x288 with 0 Axes>"
      ]
     },
     "metadata": {},
     "output_type": "display_data"
    }
   ],
   "source": [
    "#Drawing mean absolute error changes over trainnig.\n",
    "fig = plt.figure()\n",
    "ax1 = fig.add_subplot(2, 1, 1)\n",
    "ax1.plot(evaluation.history['mae'])\n",
    "ax1.plot(evaluation.history['val_mae'])\n",
    "ax1.set_title('model mae')\n",
    "ax1.set_ylabel('MAE')\n",
    "ax1.set_xlabel('epoch')\n",
    "ax1.legend(['train', 'validation'], loc='upper left')\n",
    "#Drawing loss function changes over trainnig\n",
    "ax2 = fig.add_subplot(2, 1, 2)\n",
    "ax2.plot(evaluation.history['loss'])\n",
    "ax2.plot(evaluation.history['val_loss'])\n",
    "ax2.set_title('model loss')\n",
    "ax2.set_ylabel('loss')\n",
    "ax2.set_xlabel('epoch')\n",
    "ax2.legend(['train', 'validation'], loc='upper left')\n",
    "\n",
    "#This code line keep plots from overlapping each other.\n",
    "fig.tight_layout()\n",
    "\n",
    "plt.show()\n",
    "plt.clf()"
   ]
  },
  {
   "cell_type": "markdown",
   "metadata": {},
   "source": [
    "### Getting R2 score."
   ]
  },
  {
   "cell_type": "code",
   "execution_count": 39,
   "metadata": {},
   "outputs": [
    {
     "ename": "NameError",
     "evalue": "name 'model' is not defined",
     "output_type": "error",
     "traceback": [
      "\u001b[1;31m---------------------------------------------------------------------------\u001b[0m",
      "\u001b[1;31mNameError\u001b[0m                                 Traceback (most recent call last)",
      "\u001b[1;32m<ipython-input-39-497592ddb4b3>\u001b[0m in \u001b[0;36m<module>\u001b[1;34m\u001b[0m\n\u001b[0;32m      4\u001b[0m     \u001b[1;32mreturn\u001b[0m \u001b[0mr2_score\u001b[0m\u001b[1;33m\u001b[0m\u001b[1;33m\u001b[0m\u001b[0m\n\u001b[0;32m      5\u001b[0m \u001b[1;33m\u001b[0m\u001b[0m\n\u001b[1;32m----> 6\u001b[1;33m \u001b[0mprediction\u001b[0m \u001b[1;33m=\u001b[0m \u001b[0mmodel_predict\u001b[0m\u001b[1;33m(\u001b[0m\u001b[0mfeat_test_scaled\u001b[0m\u001b[1;33m,\u001b[0m\u001b[0mlabels_train\u001b[0m\u001b[1;33m)\u001b[0m\u001b[1;33m\u001b[0m\u001b[1;33m\u001b[0m\u001b[0m\n\u001b[0m\u001b[0;32m      7\u001b[0m \u001b[0mprint\u001b[0m\u001b[1;33m(\u001b[0m\u001b[0mprediction\u001b[0m\u001b[1;33m)\u001b[0m\u001b[1;33m\u001b[0m\u001b[1;33m\u001b[0m\u001b[0m\n\u001b[0;32m      8\u001b[0m \u001b[1;33m\u001b[0m\u001b[0m\n",
      "\u001b[1;32m<ipython-input-39-497592ddb4b3>\u001b[0m in \u001b[0;36mmodel_predict\u001b[1;34m(feat_test_scaled, labels_train)\u001b[0m\n\u001b[0;32m      1\u001b[0m \u001b[1;32mdef\u001b[0m \u001b[0mmodel_predict\u001b[0m\u001b[1;33m(\u001b[0m\u001b[0mfeat_test_scaled\u001b[0m\u001b[1;33m,\u001b[0m \u001b[0mlabels_train\u001b[0m\u001b[1;33m)\u001b[0m\u001b[1;33m:\u001b[0m\u001b[1;33m\u001b[0m\u001b[1;33m\u001b[0m\u001b[0m\n\u001b[1;32m----> 2\u001b[1;33m     \u001b[0mpredicted_values\u001b[0m \u001b[1;33m=\u001b[0m \u001b[0mmodel\u001b[0m\u001b[1;33m(\u001b[0m\u001b[0mfeat_test_scaled\u001b[0m\u001b[1;33m)\u001b[0m\u001b[1;33m\u001b[0m\u001b[1;33m\u001b[0m\u001b[0m\n\u001b[0m\u001b[0;32m      3\u001b[0m     \u001b[0mr2_score\u001b[0m \u001b[1;33m=\u001b[0m \u001b[0mr2_score\u001b[0m\u001b[1;33m(\u001b[0m\u001b[0mlabels_test\u001b[0m\u001b[1;33m,\u001b[0m \u001b[0mpredicted_values\u001b[0m\u001b[1;33m)\u001b[0m\u001b[1;33m\u001b[0m\u001b[1;33m\u001b[0m\u001b[0m\n\u001b[0;32m      4\u001b[0m     \u001b[1;32mreturn\u001b[0m \u001b[0mr2_score\u001b[0m\u001b[1;33m\u001b[0m\u001b[1;33m\u001b[0m\u001b[0m\n\u001b[0;32m      5\u001b[0m \u001b[1;33m\u001b[0m\u001b[0m\n",
      "\u001b[1;31mNameError\u001b[0m: name 'model' is not defined"
     ]
    }
   ],
   "source": [
    "def model_predict(feat_test_scaled, labels_train):\n",
    "    predicted_values = model(feat_test_scaled)\n",
    "    r2_score = r2_score(labels_test, predicted_values)\n",
    "    return r2_score\n",
    "    \n",
    "prediction = model_predict(feat_test_scaled,labels_train)\n",
    "print(prediction)\n",
    "\n",
    "#For now I'm struggling with NameError (despite the fact, that the model is defined)."
   ]
  },
  {
   "cell_type": "markdown",
   "metadata": {},
   "source": [
    "### Getting model performance."
   ]
  },
  {
   "cell_type": "code",
   "execution_count": 1,
   "metadata": {},
   "outputs": [
    {
     "ename": "NameError",
     "evalue": "name 'model_predict' is not defined",
     "output_type": "error",
     "traceback": [
      "\u001b[1;31m---------------------------------------------------------------------------\u001b[0m",
      "\u001b[1;31mNameError\u001b[0m                                 Traceback (most recent call last)",
      "\u001b[1;32m<ipython-input-1-265ce083acec>\u001b[0m in \u001b[0;36m<module>\u001b[1;34m\u001b[0m\n\u001b[1;32m----> 1\u001b[1;33m \u001b[0mmodel_perform\u001b[0m \u001b[1;33m=\u001b[0m \u001b[0mmodel_predict\u001b[0m\u001b[1;33m(\u001b[0m\u001b[0mfeat_test_scaled\u001b[0m\u001b[1;33m,\u001b[0m \u001b[0mlabels_test\u001b[0m\u001b[1;33m)\u001b[0m\u001b[1;33m\u001b[0m\u001b[1;33m\u001b[0m\u001b[0m\n\u001b[0m\u001b[0;32m      2\u001b[0m \u001b[0mprint\u001b[0m\u001b[1;33m(\u001b[0m\u001b[0mmodel_perform\u001b[0m\u001b[1;33m)\u001b[0m\u001b[1;33m\u001b[0m\u001b[1;33m\u001b[0m\u001b[0m\n",
      "\u001b[1;31mNameError\u001b[0m: name 'model_predict' is not defined"
     ]
    }
   ],
   "source": [
    "model_perform = model_predict(feat_test_scaled, labels_test)\n",
    "print(model_perform)"
   ]
  }
 ],
 "metadata": {
  "kernelspec": {
   "display_name": "Python 3",
   "language": "python",
   "name": "python3"
  },
  "language_info": {
   "codemirror_mode": {
    "name": "ipython",
    "version": 3
   },
   "file_extension": ".py",
   "mimetype": "text/x-python",
   "name": "python",
   "nbconvert_exporter": "python",
   "pygments_lexer": "ipython3",
   "version": "3.8.5"
  }
 },
 "nbformat": 4,
 "nbformat_minor": 4
}
